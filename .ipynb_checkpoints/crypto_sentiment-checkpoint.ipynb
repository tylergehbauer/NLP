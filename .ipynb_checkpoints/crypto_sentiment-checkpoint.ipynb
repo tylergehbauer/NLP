{
 "cells": [
  {
   "cell_type": "markdown",
   "metadata": {},
   "source": [
    "# Unit 12 - Tales from the Crypto\n",
    "\n",
    "---\n"
   ]
  },
  {
   "cell_type": "markdown",
   "metadata": {},
   "source": [
    "## 1. Sentiment Analysis\n",
    "\n",
    "Use the [newsapi](https://newsapi.org/) to pull the latest news articles for Bitcoin and Ethereum and create a DataFrame of sentiment scores for each coin.\n",
    "\n",
    "Use descriptive statistics to answer the following questions:\n",
    "1. Which coin had the highest mean positive score?\n",
    "2. Which coin had the highest negative score?\n",
    "3. Which coin had the highest positive score?"
   ]
  },
  {
   "cell_type": "code",
   "execution_count": 1,
   "metadata": {},
   "outputs": [
    {
     "name": "stderr",
     "output_type": "stream",
     "text": [
      "[nltk_data] Downloading package vader_lexicon to\n",
      "[nltk_data]     /Users/tylergehbauer/nltk_data...\n",
      "[nltk_data]   Package vader_lexicon is already up-to-date!\n"
     ]
    }
   ],
   "source": [
    "# Initial imports\n",
    "import os\n",
    "import pandas as pd\n",
    "from dotenv import load_dotenv\n",
    "import nltk as nltk\n",
    "nltk.download('vader_lexicon')\n",
    "from nltk.sentiment.vader import SentimentIntensityAnalyzer\n",
    "analyzer = SentimentIntensityAnalyzer() #this is for when creating sentiment score dataframes\n",
    "\n",
    "%matplotlib inline"
   ]
  },
  {
   "cell_type": "code",
   "execution_count": 2,
   "metadata": {},
   "outputs": [],
   "source": [
    "# Read your api key environment variable'\n",
    "#uses my .env file to read in my api key\n",
    "load_dotenv()\n",
    "news_api = os.getenv('news_api')"
   ]
  },
  {
   "cell_type": "code",
   "execution_count": 3,
   "metadata": {},
   "outputs": [],
   "source": [
    "#print(news_api)"
   ]
  },
  {
   "cell_type": "code",
   "execution_count": 8,
   "metadata": {},
   "outputs": [],
   "source": [
    "from newsapi import NewsApiClient "
   ]
  },
  {
   "cell_type": "code",
   "execution_count": 10,
   "metadata": {},
   "outputs": [],
   "source": [
    "# This creates the newsapi client\n",
    "newsapi = NewsApiClient(api_key = news_api)"
   ]
  },
  {
   "cell_type": "code",
   "execution_count": 40,
   "metadata": {},
   "outputs": [],
   "source": [
    "# Fetch the Bitcoin news articles\n",
    "bitcoin_news = newsapi.get_everything(q = 'bitcoin', language = 'en', sort_by = 'relevancy')\n",
    "#q are the keywords\n",
    "#language is the language\n",
    "#bitcoin_news is a dict of dicts"
   ]
  },
  {
   "cell_type": "code",
   "execution_count": 38,
   "metadata": {},
   "outputs": [
    {
     "data": {
      "text/html": [
       "<div>\n",
       "<style scoped>\n",
       "    .dataframe tbody tr th:only-of-type {\n",
       "        vertical-align: middle;\n",
       "    }\n",
       "\n",
       "    .dataframe tbody tr th {\n",
       "        vertical-align: top;\n",
       "    }\n",
       "\n",
       "    .dataframe thead th {\n",
       "        text-align: right;\n",
       "    }\n",
       "</style>\n",
       "<table border=\"1\" class=\"dataframe\">\n",
       "  <thead>\n",
       "    <tr style=\"text-align: right;\">\n",
       "      <th></th>\n",
       "      <th>source</th>\n",
       "      <th>author</th>\n",
       "      <th>title</th>\n",
       "      <th>description</th>\n",
       "      <th>url</th>\n",
       "      <th>urlToImage</th>\n",
       "      <th>publishedAt</th>\n",
       "      <th>content</th>\n",
       "    </tr>\n",
       "  </thead>\n",
       "  <tbody>\n",
       "    <tr>\n",
       "      <th>0</th>\n",
       "      <td>{'id': None, 'name': 'Lifehacker.com'}</td>\n",
       "      <td>Jeff Somers</td>\n",
       "      <td>Is the Crypto Bubble Going to Burst?</td>\n",
       "      <td>Even if you aren’t paying attention to Bitcoin...</td>\n",
       "      <td>https://lifehacker.com/is-the-crypto-bubble-go...</td>\n",
       "      <td>https://i.kinja-img.com/gawker-media/image/upl...</td>\n",
       "      <td>2022-02-09T16:00:00Z</td>\n",
       "      <td>Even if you arent paying attention to Bitcoin ...</td>\n",
       "    </tr>\n",
       "    <tr>\n",
       "      <th>1</th>\n",
       "      <td>{'id': 'the-verge', 'name': 'The Verge'}</td>\n",
       "      <td>Mitchell Clark</td>\n",
       "      <td>The International Monetary Fund tells El Salva...</td>\n",
       "      <td>The International Monetary Fund’s executive di...</td>\n",
       "      <td>https://www.theverge.com/2022/1/25/22901374/el...</td>\n",
       "      <td>https://cdn.vox-cdn.com/thumbor/altkKN7BnaLUpb...</td>\n",
       "      <td>2022-01-25T22:11:14Z</td>\n",
       "      <td>El Salvador introduced Bitcoin as a legal tend...</td>\n",
       "    </tr>\n",
       "    <tr>\n",
       "      <th>2</th>\n",
       "      <td>{'id': 'the-verge', 'name': 'The Verge'}</td>\n",
       "      <td>Corin Faife</td>\n",
       "      <td>DeepDotWeb operator sentenced to eight years f...</td>\n",
       "      <td>The operator of DeepDotWeb, a site that indexe...</td>\n",
       "      <td>https://www.theverge.com/2022/1/27/22904803/de...</td>\n",
       "      <td>https://cdn.vox-cdn.com/thumbor/mde_l3lUC4muDP...</td>\n",
       "      <td>2022-01-27T18:16:57Z</td>\n",
       "      <td>Israeli national Tal Prihar pled guilty to rou...</td>\n",
       "    </tr>\n",
       "    <tr>\n",
       "      <th>3</th>\n",
       "      <td>{'id': 'engadget', 'name': 'Engadget'}</td>\n",
       "      <td>Kris Holt</td>\n",
       "      <td>Netflix is already making a docuseries about t...</td>\n",
       "      <td>Netflix\\r\\n is making a docuseries about one o...</td>\n",
       "      <td>https://www.engadget.com/netflix-billion-dolla...</td>\n",
       "      <td>https://s.yimg.com/os/creatr-uploaded-images/2...</td>\n",
       "      <td>2022-02-11T19:22:41Z</td>\n",
       "      <td>Netflix\\r\\n is making a docuseries about one o...</td>\n",
       "    </tr>\n",
       "    <tr>\n",
       "      <th>4</th>\n",
       "      <td>{'id': 'wired', 'name': 'Wired'}</td>\n",
       "      <td>Gian M. Volpicelli</td>\n",
       "      <td>Gibraltar Could Launch the World’s First Crypt...</td>\n",
       "      <td>“The Rock” hopes a new stock exchange will att...</td>\n",
       "      <td>https://www.wired.com/story/gibraltar-crypto-e...</td>\n",
       "      <td>https://media.wired.com/photos/61f0b4bf03f9ae9...</td>\n",
       "      <td>2022-01-26T12:00:00Z</td>\n",
       "      <td>British entrepreneur and financier Richard ODe...</td>\n",
       "    </tr>\n",
       "  </tbody>\n",
       "</table>\n",
       "</div>"
      ],
      "text/plain": [
       "                                     source              author  \\\n",
       "0    {'id': None, 'name': 'Lifehacker.com'}         Jeff Somers   \n",
       "1  {'id': 'the-verge', 'name': 'The Verge'}      Mitchell Clark   \n",
       "2  {'id': 'the-verge', 'name': 'The Verge'}         Corin Faife   \n",
       "3    {'id': 'engadget', 'name': 'Engadget'}           Kris Holt   \n",
       "4          {'id': 'wired', 'name': 'Wired'}  Gian M. Volpicelli   \n",
       "\n",
       "                                               title  \\\n",
       "0               Is the Crypto Bubble Going to Burst?   \n",
       "1  The International Monetary Fund tells El Salva...   \n",
       "2  DeepDotWeb operator sentenced to eight years f...   \n",
       "3  Netflix is already making a docuseries about t...   \n",
       "4  Gibraltar Could Launch the World’s First Crypt...   \n",
       "\n",
       "                                         description  \\\n",
       "0  Even if you aren’t paying attention to Bitcoin...   \n",
       "1  The International Monetary Fund’s executive di...   \n",
       "2  The operator of DeepDotWeb, a site that indexe...   \n",
       "3  Netflix\\r\\n is making a docuseries about one o...   \n",
       "4  “The Rock” hopes a new stock exchange will att...   \n",
       "\n",
       "                                                 url  \\\n",
       "0  https://lifehacker.com/is-the-crypto-bubble-go...   \n",
       "1  https://www.theverge.com/2022/1/25/22901374/el...   \n",
       "2  https://www.theverge.com/2022/1/27/22904803/de...   \n",
       "3  https://www.engadget.com/netflix-billion-dolla...   \n",
       "4  https://www.wired.com/story/gibraltar-crypto-e...   \n",
       "\n",
       "                                          urlToImage           publishedAt  \\\n",
       "0  https://i.kinja-img.com/gawker-media/image/upl...  2022-02-09T16:00:00Z   \n",
       "1  https://cdn.vox-cdn.com/thumbor/altkKN7BnaLUpb...  2022-01-25T22:11:14Z   \n",
       "2  https://cdn.vox-cdn.com/thumbor/mde_l3lUC4muDP...  2022-01-27T18:16:57Z   \n",
       "3  https://s.yimg.com/os/creatr-uploaded-images/2...  2022-02-11T19:22:41Z   \n",
       "4  https://media.wired.com/photos/61f0b4bf03f9ae9...  2022-01-26T12:00:00Z   \n",
       "\n",
       "                                             content  \n",
       "0  Even if you arent paying attention to Bitcoin ...  \n",
       "1  El Salvador introduced Bitcoin as a legal tend...  \n",
       "2  Israeli national Tal Prihar pled guilty to rou...  \n",
       "3  Netflix\\r\\n is making a docuseries about one o...  \n",
       "4  British entrepreneur and financier Richard ODe...  "
      ]
     },
     "execution_count": 38,
     "metadata": {},
     "output_type": "execute_result"
    }
   ],
   "source": [
    "example_df = pd.DataFrame.from_dict(bitcoin_news[\"articles\"])\n",
    "example_df.head() #this shows each article from 'bitcoin_news'"
   ]
  },
  {
   "cell_type": "code",
   "execution_count": 13,
   "metadata": {},
   "outputs": [],
   "source": [
    "# Fetch the Ethereum news articles\n",
    "ethereum_news = newsapi.get_everything(q = 'ethereum', language = 'en', sort_by = 'relevancy')\n",
    "#q are the keywords\n",
    "#language is the language"
   ]
  },
  {
   "cell_type": "markdown",
   "metadata": {},
   "source": [
    "Sentiment Analysis is used to analyze the emotion of the text. Postive words are associated with words like 'love' and 'enjoy' and vice versa for negative words.\n",
    "\n",
    "The compound score is the sum of positive, negative & neutral scores which is then normalized between -1(most extreme negative) and +1 (most extreme positive).\n",
    "\n",
    "The positive, negative & neutral scores for each article should add up to 1. \n",
    "\n",
    "source: https://analyticsindiamag.com/sentiment-analysis-made-easy-using-vader/#:~:text=The%20compound%20score%20is%20the,%25%20Negative%2C%2050.8%25%20Neutral"
   ]
  },
  {
   "cell_type": "code",
   "execution_count": 19,
   "metadata": {},
   "outputs": [
    {
     "data": {
      "text/html": [
       "<div>\n",
       "<style scoped>\n",
       "    .dataframe tbody tr th:only-of-type {\n",
       "        vertical-align: middle;\n",
       "    }\n",
       "\n",
       "    .dataframe tbody tr th {\n",
       "        vertical-align: top;\n",
       "    }\n",
       "\n",
       "    .dataframe thead th {\n",
       "        text-align: right;\n",
       "    }\n",
       "</style>\n",
       "<table border=\"1\" class=\"dataframe\">\n",
       "  <thead>\n",
       "    <tr style=\"text-align: right;\">\n",
       "      <th></th>\n",
       "      <th>text</th>\n",
       "      <th>Compound</th>\n",
       "      <th>Positive</th>\n",
       "      <th>Negative</th>\n",
       "      <th>Neutral</th>\n",
       "    </tr>\n",
       "  </thead>\n",
       "  <tbody>\n",
       "    <tr>\n",
       "      <th>0</th>\n",
       "      <td>Even if you arent paying attention to Bitcoin ...</td>\n",
       "      <td>0.5859</td>\n",
       "      <td>0.124</td>\n",
       "      <td>0.000</td>\n",
       "      <td>0.876</td>\n",
       "    </tr>\n",
       "    <tr>\n",
       "      <th>1</th>\n",
       "      <td>El Salvador introduced Bitcoin as a legal tend...</td>\n",
       "      <td>0.3182</td>\n",
       "      <td>0.105</td>\n",
       "      <td>0.000</td>\n",
       "      <td>0.895</td>\n",
       "    </tr>\n",
       "    <tr>\n",
       "      <th>2</th>\n",
       "      <td>Israeli national Tal Prihar pled guilty to rou...</td>\n",
       "      <td>-0.3182</td>\n",
       "      <td>0.045</td>\n",
       "      <td>0.084</td>\n",
       "      <td>0.871</td>\n",
       "    </tr>\n",
       "    <tr>\n",
       "      <th>3</th>\n",
       "      <td>Netflix\\r\\n is making a docuseries about one o...</td>\n",
       "      <td>-0.7096</td>\n",
       "      <td>0.000</td>\n",
       "      <td>0.169</td>\n",
       "      <td>0.831</td>\n",
       "    </tr>\n",
       "    <tr>\n",
       "      <th>4</th>\n",
       "      <td>British entrepreneur and financier Richard ODe...</td>\n",
       "      <td>0.6808</td>\n",
       "      <td>0.185</td>\n",
       "      <td>0.000</td>\n",
       "      <td>0.815</td>\n",
       "    </tr>\n",
       "  </tbody>\n",
       "</table>\n",
       "</div>"
      ],
      "text/plain": [
       "                                                text  Compound  Positive  \\\n",
       "0  Even if you arent paying attention to Bitcoin ...    0.5859     0.124   \n",
       "1  El Salvador introduced Bitcoin as a legal tend...    0.3182     0.105   \n",
       "2  Israeli national Tal Prihar pled guilty to rou...   -0.3182     0.045   \n",
       "3  Netflix\\r\\n is making a docuseries about one o...   -0.7096     0.000   \n",
       "4  British entrepreneur and financier Richard ODe...    0.6808     0.185   \n",
       "\n",
       "   Negative  Neutral  \n",
       "0     0.000    0.876  \n",
       "1     0.000    0.895  \n",
       "2     0.084    0.871  \n",
       "3     0.169    0.831  \n",
       "4     0.000    0.815  "
      ]
     },
     "execution_count": 19,
     "metadata": {},
     "output_type": "execute_result"
    }
   ],
   "source": [
    "# Create the Bitcoin sentiment scores DataFrame\n",
    "sentiments = [] #creates empty list\n",
    "\n",
    "#Going to use VADER’s SentimentIntensityAnalyzer() to see how many 'Neutral (neu)' , 'Positive (pos)', and 'Negatvie(neg)'\n",
    "# words there are for each article. \n",
    "for articles in bitcoin_news[\"articles\"]: #goes through each artilce in bitcoin_news and applies polai\n",
    "    try:\n",
    "        text = articles[\"content\"] #accessing each articles 'content' which contains the article itself in 'bitcoin_news'\n",
    "        \n",
    "        results = analyzer.polarity_scoresolarity_scores(text) #this is how get compound, pos, neg, and nue polarity scores\n",
    "        #during imports we set analyzer equal to SentimentIntensityAnalyzer() \n",
    "        #'results' uses this function to find polarity score for each article in bitcoin_news\n",
    "        \n",
    "        compound = results[\"compound\"] #gets compound polarity score\n",
    "        pos = results[\"pos\"] #gets postive polarity score\n",
    "        neu = results[\"neu\"] #gets neutral polarity score\n",
    "        neg = results[\"neg\"] #gets negative polarity score\n",
    "\n",
    "        sentiments.append({ #appends a dictionary inside the list-(sentiments) so a dataframe can be created\n",
    "            \"text\": text, #this appends all polarity score we got above\n",
    "            \"Compound\": compound,\n",
    "            \"Positive\": pos,\n",
    "            \"Negative\": neg,\n",
    "            \"Neutral\": neu,\n",
    "        })\n",
    "    except AttributeError:\n",
    "        pass #rinse and repeat for each article\n",
    "    \n",
    "bitcoin = pd.DataFrame(sentiments) #creates a dataframe using the list of dicts\n",
    "bitcoin.head()"
   ]
  },
  {
   "cell_type": "code",
   "execution_count": 20,
   "metadata": {},
   "outputs": [
    {
     "data": {
      "text/html": [
       "<div>\n",
       "<style scoped>\n",
       "    .dataframe tbody tr th:only-of-type {\n",
       "        vertical-align: middle;\n",
       "    }\n",
       "\n",
       "    .dataframe tbody tr th {\n",
       "        vertical-align: top;\n",
       "    }\n",
       "\n",
       "    .dataframe thead th {\n",
       "        text-align: right;\n",
       "    }\n",
       "</style>\n",
       "<table border=\"1\" class=\"dataframe\">\n",
       "  <thead>\n",
       "    <tr style=\"text-align: right;\">\n",
       "      <th></th>\n",
       "      <th>text</th>\n",
       "      <th>Compound</th>\n",
       "      <th>Positive</th>\n",
       "      <th>Negative</th>\n",
       "      <th>Neutral</th>\n",
       "    </tr>\n",
       "  </thead>\n",
       "  <tbody>\n",
       "    <tr>\n",
       "      <th>0</th>\n",
       "      <td>If people who buy cryptocurrencies intended on...</td>\n",
       "      <td>-0.2023</td>\n",
       "      <td>0.039</td>\n",
       "      <td>0.062</td>\n",
       "      <td>0.899</td>\n",
       "    </tr>\n",
       "    <tr>\n",
       "      <th>1</th>\n",
       "      <td>Technical analysis isnt a perfect tool, but it...</td>\n",
       "      <td>-0.2498</td>\n",
       "      <td>0.000</td>\n",
       "      <td>0.059</td>\n",
       "      <td>0.941</td>\n",
       "    </tr>\n",
       "    <tr>\n",
       "      <th>2</th>\n",
       "      <td>This enables an L1 platform to bootstrap its n...</td>\n",
       "      <td>0.0000</td>\n",
       "      <td>0.000</td>\n",
       "      <td>0.000</td>\n",
       "      <td>1.000</td>\n",
       "    </tr>\n",
       "    <tr>\n",
       "      <th>3</th>\n",
       "      <td>The means-and-ends moralists, or non-doers, al...</td>\n",
       "      <td>0.0000</td>\n",
       "      <td>0.000</td>\n",
       "      <td>0.000</td>\n",
       "      <td>1.000</td>\n",
       "    </tr>\n",
       "    <tr>\n",
       "      <th>4</th>\n",
       "      <td>Coinbase reported that the share of trading vo...</td>\n",
       "      <td>0.6705</td>\n",
       "      <td>0.188</td>\n",
       "      <td>0.000</td>\n",
       "      <td>0.812</td>\n",
       "    </tr>\n",
       "  </tbody>\n",
       "</table>\n",
       "</div>"
      ],
      "text/plain": [
       "                                                text  Compound  Positive  \\\n",
       "0  If people who buy cryptocurrencies intended on...   -0.2023     0.039   \n",
       "1  Technical analysis isnt a perfect tool, but it...   -0.2498     0.000   \n",
       "2  This enables an L1 platform to bootstrap its n...    0.0000     0.000   \n",
       "3  The means-and-ends moralists, or non-doers, al...    0.0000     0.000   \n",
       "4  Coinbase reported that the share of trading vo...    0.6705     0.188   \n",
       "\n",
       "   Negative  Neutral  \n",
       "0     0.062    0.899  \n",
       "1     0.059    0.941  \n",
       "2     0.000    1.000  \n",
       "3     0.000    1.000  \n",
       "4     0.000    0.812  "
      ]
     },
     "execution_count": 20,
     "metadata": {},
     "output_type": "execute_result"
    }
   ],
   "source": [
    "# Create the Ethereum sentiment scores DataFrame\n",
    "sentiments = []\n",
    "\n",
    "for articles in ethereum_news[\"articles\"]:\n",
    "    try:\n",
    "        text = articles[\"content\"]\n",
    "        results = analyzer.polarity_scores(text)\n",
    "        compound = results[\"compound\"]\n",
    "        pos = results[\"pos\"]\n",
    "        neu = results[\"neu\"]\n",
    "        neg = results[\"neg\"]\n",
    "\n",
    "        sentiments.append({\n",
    "            \"text\": text,\n",
    "            \"Compound\": compound,\n",
    "            \"Positive\": pos,\n",
    "            \"Negative\": neg,\n",
    "            \"Neutral\": neu,\n",
    "        })\n",
    "    except AttributeError:\n",
    "        pass\n",
    "    \n",
    "ethereum = pd.DataFrame(sentiments)\n",
    "ethereum.head()"
   ]
  },
  {
   "cell_type": "code",
   "execution_count": 21,
   "metadata": {},
   "outputs": [
    {
     "data": {
      "text/html": [
       "<div>\n",
       "<style scoped>\n",
       "    .dataframe tbody tr th:only-of-type {\n",
       "        vertical-align: middle;\n",
       "    }\n",
       "\n",
       "    .dataframe tbody tr th {\n",
       "        vertical-align: top;\n",
       "    }\n",
       "\n",
       "    .dataframe thead th {\n",
       "        text-align: right;\n",
       "    }\n",
       "</style>\n",
       "<table border=\"1\" class=\"dataframe\">\n",
       "  <thead>\n",
       "    <tr style=\"text-align: right;\">\n",
       "      <th></th>\n",
       "      <th>Compound</th>\n",
       "      <th>Positive</th>\n",
       "      <th>Negative</th>\n",
       "      <th>Neutral</th>\n",
       "    </tr>\n",
       "  </thead>\n",
       "  <tbody>\n",
       "    <tr>\n",
       "      <th>count</th>\n",
       "      <td>20.000000</td>\n",
       "      <td>20.000000</td>\n",
       "      <td>20.000000</td>\n",
       "      <td>20.000000</td>\n",
       "    </tr>\n",
       "    <tr>\n",
       "      <th>mean</th>\n",
       "      <td>0.181095</td>\n",
       "      <td>0.090800</td>\n",
       "      <td>0.041600</td>\n",
       "      <td>0.867600</td>\n",
       "    </tr>\n",
       "    <tr>\n",
       "      <th>std</th>\n",
       "      <td>0.459473</td>\n",
       "      <td>0.059023</td>\n",
       "      <td>0.057329</td>\n",
       "      <td>0.061515</td>\n",
       "    </tr>\n",
       "    <tr>\n",
       "      <th>min</th>\n",
       "      <td>-0.709600</td>\n",
       "      <td>0.000000</td>\n",
       "      <td>0.000000</td>\n",
       "      <td>0.729000</td>\n",
       "    </tr>\n",
       "    <tr>\n",
       "      <th>25%</th>\n",
       "      <td>-0.225725</td>\n",
       "      <td>0.045750</td>\n",
       "      <td>0.000000</td>\n",
       "      <td>0.834750</td>\n",
       "    </tr>\n",
       "    <tr>\n",
       "      <th>50%</th>\n",
       "      <td>0.295700</td>\n",
       "      <td>0.092500</td>\n",
       "      <td>0.000000</td>\n",
       "      <td>0.873500</td>\n",
       "    </tr>\n",
       "    <tr>\n",
       "      <th>75%</th>\n",
       "      <td>0.585900</td>\n",
       "      <td>0.145250</td>\n",
       "      <td>0.085500</td>\n",
       "      <td>0.901500</td>\n",
       "    </tr>\n",
       "    <tr>\n",
       "      <th>max</th>\n",
       "      <td>0.778300</td>\n",
       "      <td>0.185000</td>\n",
       "      <td>0.169000</td>\n",
       "      <td>1.000000</td>\n",
       "    </tr>\n",
       "  </tbody>\n",
       "</table>\n",
       "</div>"
      ],
      "text/plain": [
       "        Compound   Positive   Negative    Neutral\n",
       "count  20.000000  20.000000  20.000000  20.000000\n",
       "mean    0.181095   0.090800   0.041600   0.867600\n",
       "std     0.459473   0.059023   0.057329   0.061515\n",
       "min    -0.709600   0.000000   0.000000   0.729000\n",
       "25%    -0.225725   0.045750   0.000000   0.834750\n",
       "50%     0.295700   0.092500   0.000000   0.873500\n",
       "75%     0.585900   0.145250   0.085500   0.901500\n",
       "max     0.778300   0.185000   0.169000   1.000000"
      ]
     },
     "execution_count": 21,
     "metadata": {},
     "output_type": "execute_result"
    }
   ],
   "source": [
    "# Describe the Bitcoin Sentiment\n",
    "bitcoin.describe()"
   ]
  },
  {
   "cell_type": "code",
   "execution_count": 22,
   "metadata": {},
   "outputs": [
    {
     "data": {
      "text/html": [
       "<div>\n",
       "<style scoped>\n",
       "    .dataframe tbody tr th:only-of-type {\n",
       "        vertical-align: middle;\n",
       "    }\n",
       "\n",
       "    .dataframe tbody tr th {\n",
       "        vertical-align: top;\n",
       "    }\n",
       "\n",
       "    .dataframe thead th {\n",
       "        text-align: right;\n",
       "    }\n",
       "</style>\n",
       "<table border=\"1\" class=\"dataframe\">\n",
       "  <thead>\n",
       "    <tr style=\"text-align: right;\">\n",
       "      <th></th>\n",
       "      <th>Compound</th>\n",
       "      <th>Positive</th>\n",
       "      <th>Negative</th>\n",
       "      <th>Neutral</th>\n",
       "    </tr>\n",
       "  </thead>\n",
       "  <tbody>\n",
       "    <tr>\n",
       "      <th>count</th>\n",
       "      <td>20.000000</td>\n",
       "      <td>20.000000</td>\n",
       "      <td>20.000000</td>\n",
       "      <td>20.000000</td>\n",
       "    </tr>\n",
       "    <tr>\n",
       "      <th>mean</th>\n",
       "      <td>0.100645</td>\n",
       "      <td>0.059100</td>\n",
       "      <td>0.026400</td>\n",
       "      <td>0.914550</td>\n",
       "    </tr>\n",
       "    <tr>\n",
       "      <th>std</th>\n",
       "      <td>0.351331</td>\n",
       "      <td>0.074079</td>\n",
       "      <td>0.048366</td>\n",
       "      <td>0.088084</td>\n",
       "    </tr>\n",
       "    <tr>\n",
       "      <th>min</th>\n",
       "      <td>-0.680800</td>\n",
       "      <td>0.000000</td>\n",
       "      <td>0.000000</td>\n",
       "      <td>0.766000</td>\n",
       "    </tr>\n",
       "    <tr>\n",
       "      <th>25%</th>\n",
       "      <td>-0.025675</td>\n",
       "      <td>0.000000</td>\n",
       "      <td>0.000000</td>\n",
       "      <td>0.822500</td>\n",
       "    </tr>\n",
       "    <tr>\n",
       "      <th>50%</th>\n",
       "      <td>0.000000</td>\n",
       "      <td>0.042500</td>\n",
       "      <td>0.000000</td>\n",
       "      <td>0.942500</td>\n",
       "    </tr>\n",
       "    <tr>\n",
       "      <th>75%</th>\n",
       "      <td>0.232225</td>\n",
       "      <td>0.082750</td>\n",
       "      <td>0.041750</td>\n",
       "      <td>1.000000</td>\n",
       "    </tr>\n",
       "    <tr>\n",
       "      <th>max</th>\n",
       "      <td>0.834100</td>\n",
       "      <td>0.234000</td>\n",
       "      <td>0.174000</td>\n",
       "      <td>1.000000</td>\n",
       "    </tr>\n",
       "  </tbody>\n",
       "</table>\n",
       "</div>"
      ],
      "text/plain": [
       "        Compound   Positive   Negative    Neutral\n",
       "count  20.000000  20.000000  20.000000  20.000000\n",
       "mean    0.100645   0.059100   0.026400   0.914550\n",
       "std     0.351331   0.074079   0.048366   0.088084\n",
       "min    -0.680800   0.000000   0.000000   0.766000\n",
       "25%    -0.025675   0.000000   0.000000   0.822500\n",
       "50%     0.000000   0.042500   0.000000   0.942500\n",
       "75%     0.232225   0.082750   0.041750   1.000000\n",
       "max     0.834100   0.234000   0.174000   1.000000"
      ]
     },
     "execution_count": 22,
     "metadata": {},
     "output_type": "execute_result"
    }
   ],
   "source": [
    "# Describe the Ethereum Sentiment\n",
    "ethereum.describe()"
   ]
  },
  {
   "cell_type": "markdown",
   "metadata": {},
   "source": [
    "### Questions:\n",
    "\n",
    "Q: Which coin had the highest mean positive score?\n",
    "\n",
    "A: \n",
    "\n",
    "Q: Which coin had the highest compound score?\n",
    "\n",
    "A: \n",
    "\n",
    "Q. Which coin had the highest positive score?\n",
    "\n",
    "A: "
   ]
  },
  {
   "cell_type": "markdown",
   "metadata": {},
   "source": [
    "---"
   ]
  },
  {
   "cell_type": "markdown",
   "metadata": {},
   "source": [
    "## 2. Natural Language Processing\n",
    "---\n",
    "###   Tokenizer\n",
    "\n",
    "In this section, you will use NLTK and Python to tokenize the text for each coin. Be sure to:\n",
    "1. Lowercase each word.\n",
    "2. Remove Punctuation.\n",
    "3. Remove Stopwords."
   ]
  },
  {
   "cell_type": "code",
   "execution_count": 65,
   "metadata": {},
   "outputs": [],
   "source": [
    "from nltk.tokenize import word_tokenize, sent_tokenize\n",
    "from nltk.corpus import stopwords\n",
    "from nltk.stem import WordNetLemmatizer, PorterStemmer\n",
    "from string import punctuation\n",
    "import re"
   ]
  },
  {
   "cell_type": "code",
   "execution_count": 96,
   "metadata": {},
   "outputs": [],
   "source": [
    "# Instantiate the lemmatizer\n",
    "wnl = WordNetLemmatizer() \n",
    "\n",
    "# Create a list of stopwords\n",
    "stop = stopwords.words('english') # contains all stop words for english"
   ]
  },
  {
   "cell_type": "code",
   "execution_count": 97,
   "metadata": {},
   "outputs": [],
   "source": [
    "# Expand the default stopwords list if necessary\n",
    "#will append each word to the list 'stop' created in cell above.\n",
    "stop.append(\"u\")\n",
    "stop.append(\"it'\")\n",
    "stop.append(\"'s\")\n",
    "stop.append(\"n't\")\n",
    "stop.append('…')\n",
    "stop.append(\"\\`\")\n",
    "stop.append('``')\n",
    "stop.append('char')\n",
    "stop.append(\"''\")\n",
    "stop.append('’')\n",
    "stop.append('arent')\n",
    "stop.append('Mr.')\n",
    "stop.append(',')\n",
    "#stop.append('cryptocurrency') ?\n",
    "#\n",
    "stop = set(stop)\n"
   ]
  },
  {
   "cell_type": "code",
   "execution_count": 98,
   "metadata": {},
   "outputs": [],
   "source": [
    "#stop #to check if stop words appended"
   ]
  },
  {
   "cell_type": "code",
   "execution_count": 99,
   "metadata": {},
   "outputs": [],
   "source": [
    "# Complete the tokenizer function\n",
    "def tokenizer(text):\n",
    "    \"\"\"Tokenizes text.\"\"\"\n",
    "    \n",
    "    # Create a list of the words\n",
    "    words = word_tokenize(text) #tokenizes each word in text\n",
    "\n",
    "    # Convert the words to lowercase\n",
    "    words = list(filter(lambda w: w.lower(), words))\n",
    "    \n",
    "    # Remove the punctuation\n",
    "    words = list(filter(lambda t: t not in punctuation, words))\n",
    "    \n",
    "    # Remove the stopwords\n",
    "    words = list(filter(lambda t: t.lower() not in stop, words)) #uses the stop list we created\n",
    "    \n",
    "    # Lemmatize Words into root words\n",
    "    #makes Ran and Running into same word for exmaple. \n",
    "    tokens = [wnl.lemmatize(word) for word in words]\n",
    "    \n",
    "    return tokens"
   ]
  },
  {
   "cell_type": "code",
   "execution_count": 100,
   "metadata": {},
   "outputs": [
    {
     "data": {
      "text/html": [
       "<div>\n",
       "<style scoped>\n",
       "    .dataframe tbody tr th:only-of-type {\n",
       "        vertical-align: middle;\n",
       "    }\n",
       "\n",
       "    .dataframe tbody tr th {\n",
       "        vertical-align: top;\n",
       "    }\n",
       "\n",
       "    .dataframe thead th {\n",
       "        text-align: right;\n",
       "    }\n",
       "</style>\n",
       "<table border=\"1\" class=\"dataframe\">\n",
       "  <thead>\n",
       "    <tr style=\"text-align: right;\">\n",
       "      <th></th>\n",
       "      <th>text</th>\n",
       "      <th>Compound</th>\n",
       "      <th>Positive</th>\n",
       "      <th>Negative</th>\n",
       "      <th>Neutral</th>\n",
       "      <th>tokens</th>\n",
       "    </tr>\n",
       "  </thead>\n",
       "  <tbody>\n",
       "    <tr>\n",
       "      <th>0</th>\n",
       "      <td>Even if you arent paying attention to Bitcoin ...</td>\n",
       "      <td>0.5859</td>\n",
       "      <td>0.124</td>\n",
       "      <td>0.000</td>\n",
       "      <td>0.876</td>\n",
       "      <td>[Even, paying, attention, Bitcoin, cryptocurre...</td>\n",
       "    </tr>\n",
       "    <tr>\n",
       "      <th>1</th>\n",
       "      <td>El Salvador introduced Bitcoin as a legal tend...</td>\n",
       "      <td>0.3182</td>\n",
       "      <td>0.105</td>\n",
       "      <td>0.000</td>\n",
       "      <td>0.895</td>\n",
       "      <td>[El, Salvador, introduced, Bitcoin, legal, ten...</td>\n",
       "    </tr>\n",
       "    <tr>\n",
       "      <th>2</th>\n",
       "      <td>Israeli national Tal Prihar pled guilty to rou...</td>\n",
       "      <td>-0.3182</td>\n",
       "      <td>0.045</td>\n",
       "      <td>0.084</td>\n",
       "      <td>0.871</td>\n",
       "      <td>[Israeli, national, Tal, Prihar, pled, guilty,...</td>\n",
       "    </tr>\n",
       "    <tr>\n",
       "      <th>3</th>\n",
       "      <td>Netflix\\r\\n is making a docuseries about one o...</td>\n",
       "      <td>-0.7096</td>\n",
       "      <td>0.000</td>\n",
       "      <td>0.169</td>\n",
       "      <td>0.831</td>\n",
       "      <td>[Netflix, making, docuseries, one, worst, rapp...</td>\n",
       "    </tr>\n",
       "    <tr>\n",
       "      <th>4</th>\n",
       "      <td>British entrepreneur and financier Richard ODe...</td>\n",
       "      <td>0.6808</td>\n",
       "      <td>0.185</td>\n",
       "      <td>0.000</td>\n",
       "      <td>0.815</td>\n",
       "      <td>[British, entrepreneur, financier, Richard, OD...</td>\n",
       "    </tr>\n",
       "  </tbody>\n",
       "</table>\n",
       "</div>"
      ],
      "text/plain": [
       "                                                text  Compound  Positive  \\\n",
       "0  Even if you arent paying attention to Bitcoin ...    0.5859     0.124   \n",
       "1  El Salvador introduced Bitcoin as a legal tend...    0.3182     0.105   \n",
       "2  Israeli national Tal Prihar pled guilty to rou...   -0.3182     0.045   \n",
       "3  Netflix\\r\\n is making a docuseries about one o...   -0.7096     0.000   \n",
       "4  British entrepreneur and financier Richard ODe...    0.6808     0.185   \n",
       "\n",
       "   Negative  Neutral                                             tokens  \n",
       "0     0.000    0.876  [Even, paying, attention, Bitcoin, cryptocurre...  \n",
       "1     0.000    0.895  [El, Salvador, introduced, Bitcoin, legal, ten...  \n",
       "2     0.084    0.871  [Israeli, national, Tal, Prihar, pled, guilty,...  \n",
       "3     0.169    0.831  [Netflix, making, docuseries, one, worst, rapp...  \n",
       "4     0.000    0.815  [British, entrepreneur, financier, Richard, OD...  "
      ]
     },
     "execution_count": 100,
     "metadata": {},
     "output_type": "execute_result"
    }
   ],
   "source": [
    "# Create a new tokens column for Bitcoin\n",
    "bitcoin[\"tokens\"] = bitcoin.text.apply(tokenizer)\n",
    "bitcoin.head()"
   ]
  },
  {
   "cell_type": "code",
   "execution_count": 101,
   "metadata": {},
   "outputs": [
    {
     "data": {
      "text/html": [
       "<div>\n",
       "<style scoped>\n",
       "    .dataframe tbody tr th:only-of-type {\n",
       "        vertical-align: middle;\n",
       "    }\n",
       "\n",
       "    .dataframe tbody tr th {\n",
       "        vertical-align: top;\n",
       "    }\n",
       "\n",
       "    .dataframe thead th {\n",
       "        text-align: right;\n",
       "    }\n",
       "</style>\n",
       "<table border=\"1\" class=\"dataframe\">\n",
       "  <thead>\n",
       "    <tr style=\"text-align: right;\">\n",
       "      <th></th>\n",
       "      <th>text</th>\n",
       "      <th>Compound</th>\n",
       "      <th>Positive</th>\n",
       "      <th>Negative</th>\n",
       "      <th>Neutral</th>\n",
       "      <th>tokens</th>\n",
       "    </tr>\n",
       "  </thead>\n",
       "  <tbody>\n",
       "    <tr>\n",
       "      <th>0</th>\n",
       "      <td>If people who buy cryptocurrencies intended on...</td>\n",
       "      <td>-0.2023</td>\n",
       "      <td>0.039</td>\n",
       "      <td>0.062</td>\n",
       "      <td>0.899</td>\n",
       "      <td>[people, buy, cryptocurrencies, intended, hold...</td>\n",
       "    </tr>\n",
       "    <tr>\n",
       "      <th>1</th>\n",
       "      <td>Technical analysis isnt a perfect tool, but it...</td>\n",
       "      <td>-0.2498</td>\n",
       "      <td>0.000</td>\n",
       "      <td>0.059</td>\n",
       "      <td>0.941</td>\n",
       "      <td>[Technical, analysis, isnt, perfect, tool, may...</td>\n",
       "    </tr>\n",
       "    <tr>\n",
       "      <th>2</th>\n",
       "      <td>This enables an L1 platform to bootstrap its n...</td>\n",
       "      <td>0.0000</td>\n",
       "      <td>0.000</td>\n",
       "      <td>0.000</td>\n",
       "      <td>1.000</td>\n",
       "      <td>[enables, L1, platform, bootstrap, national, e...</td>\n",
       "    </tr>\n",
       "    <tr>\n",
       "      <th>3</th>\n",
       "      <td>The means-and-ends moralists, or non-doers, al...</td>\n",
       "      <td>0.0000</td>\n",
       "      <td>0.000</td>\n",
       "      <td>0.000</td>\n",
       "      <td>1.000</td>\n",
       "      <td>[means-and-ends, moralist, non-doers, always, ...</td>\n",
       "    </tr>\n",
       "    <tr>\n",
       "      <th>4</th>\n",
       "      <td>Coinbase reported that the share of trading vo...</td>\n",
       "      <td>0.6705</td>\n",
       "      <td>0.188</td>\n",
       "      <td>0.000</td>\n",
       "      <td>0.812</td>\n",
       "      <td>[Coinbase, reported, share, trading, volume, e...</td>\n",
       "    </tr>\n",
       "  </tbody>\n",
       "</table>\n",
       "</div>"
      ],
      "text/plain": [
       "                                                text  Compound  Positive  \\\n",
       "0  If people who buy cryptocurrencies intended on...   -0.2023     0.039   \n",
       "1  Technical analysis isnt a perfect tool, but it...   -0.2498     0.000   \n",
       "2  This enables an L1 platform to bootstrap its n...    0.0000     0.000   \n",
       "3  The means-and-ends moralists, or non-doers, al...    0.0000     0.000   \n",
       "4  Coinbase reported that the share of trading vo...    0.6705     0.188   \n",
       "\n",
       "   Negative  Neutral                                             tokens  \n",
       "0     0.062    0.899  [people, buy, cryptocurrencies, intended, hold...  \n",
       "1     0.059    0.941  [Technical, analysis, isnt, perfect, tool, may...  \n",
       "2     0.000    1.000  [enables, L1, platform, bootstrap, national, e...  \n",
       "3     0.000    1.000  [means-and-ends, moralist, non-doers, always, ...  \n",
       "4     0.000    0.812  [Coinbase, reported, share, trading, volume, e...  "
      ]
     },
     "execution_count": 101,
     "metadata": {},
     "output_type": "execute_result"
    }
   ],
   "source": [
    "# Create a new tokens column for Ethereum\n",
    "ethereum[\"tokens\"] = ethereum.text.apply(tokenizer)\n",
    "ethereum.head()"
   ]
  },
  {
   "cell_type": "markdown",
   "metadata": {},
   "source": [
    "---"
   ]
  },
  {
   "cell_type": "markdown",
   "metadata": {},
   "source": [
    "### NGrams and Frequency Analysis\n",
    "\n",
    "In this section you will look at the ngrams and word frequency for each coin. \n",
    "\n",
    "1. Use NLTK to produce the n-grams for N = 2. \n",
    "2. List the top 10 words for each coin. "
   ]
  },
  {
   "cell_type": "code",
   "execution_count": 102,
   "metadata": {},
   "outputs": [],
   "source": [
    "from collections import Counter\n",
    "from nltk import ngrams"
   ]
  },
  {
   "cell_type": "code",
   "execution_count": 103,
   "metadata": {},
   "outputs": [
    {
     "data": {
      "text/plain": [
       "[(('El', 'Salvador'), 3),\n",
       " (('Illustration', 'Alex'), 3),\n",
       " (('Alex', 'Castro'), 3),\n",
       " (('Castro', 'Verge'), 3),\n",
       " (('char', 'Feb'), 3),\n",
       " (('Reuters', 'Bitcoin'), 3),\n",
       " (('alongside', 'US'), 2),\n",
       " (('US', 'dollar'), 2),\n",
       " (('International', 'Monetary'), 2),\n",
       " (('Monetary', 'Fund'), 2),\n",
       " (('Mr.', 'Lichtensteins'), 2),\n",
       " (('Lichtensteins', 'wallet'), 2),\n",
       " (('Even', 'paying'), 1),\n",
       " (('paying', 'attention'), 1),\n",
       " (('attention', 'Bitcoin'), 1),\n",
       " (('Bitcoin', 'cryptocurrencies'), 1),\n",
       " (('cryptocurrencies', 'might'), 1),\n",
       " (('might', 'noticed'), 1),\n",
       " (('noticed', 'value'), 1),\n",
       " (('value', 'plummeted'), 1)]"
      ]
     },
     "execution_count": 103,
     "metadata": {},
     "output_type": "execute_result"
    }
   ],
   "source": [
    "# Generate the Bitcoin N-grams where N=2\n",
    "N=2\n",
    "grams = ngrams(tokenizer(bitcoin.text.str.cat()), N)\n",
    "Counter(grams).most_common(20)"
   ]
  },
  {
   "cell_type": "code",
   "execution_count": 104,
   "metadata": {},
   "outputs": [
    {
     "data": {
      "text/plain": [
       "[(('char', 'Feb'), 4),\n",
       " (('324', 'million'), 4),\n",
       " (('char', 'version'), 3),\n",
       " (('version', 'article'), 3),\n",
       " (('article', 'published'), 3),\n",
       " (('published', 'TIME'), 3),\n",
       " (('TIME', 'newsletter'), 3),\n",
       " (('newsletter', 'Metaverse'), 3),\n",
       " (('Metaverse', 'Subscribe'), 3),\n",
       " (('Subscribe', 'weekly'), 3),\n",
       " (('weekly', 'guide'), 3),\n",
       " (('guide', 'future'), 3),\n",
       " (('find', 'past'), 3),\n",
       " (('past', 'issue'), 3),\n",
       " (('issue', 'newsletter'), 3),\n",
       " (('trading', 'volume'), 2),\n",
       " (('profile', 'picture'), 2),\n",
       " (('char', 'Online'), 2),\n",
       " (('Online', 'thief'), 2),\n",
       " (('thief', 'made'), 2)]"
      ]
     },
     "execution_count": 104,
     "metadata": {},
     "output_type": "execute_result"
    }
   ],
   "source": [
    "# Generate the Ethereum N-grams where N=2\n",
    "N = 2\n",
    "grams = ngrams(tokenizer(ethereum.text.str.cat()), N)\n",
    "Counter(grams).most_common(20)"
   ]
  },
  {
   "cell_type": "code",
   "execution_count": 105,
   "metadata": {},
   "outputs": [],
   "source": [
    "# Function token_count generates the top 10 words for a given coin\n",
    "def token_count(tokens, N=3):\n",
    "    \"\"\"Returns the top N tokens from the frequency count\"\"\"\n",
    "    return Counter(tokens).most_common(N)"
   ]
  },
  {
   "cell_type": "code",
   "execution_count": 106,
   "metadata": {},
   "outputs": [
    {
     "data": {
      "text/plain": [
       "[('char', 20),\n",
       " ('Bitcoin', 14),\n",
       " ('Reuters', 5),\n",
       " ('El', 4),\n",
       " ('Salvador', 3),\n",
       " ('dollar', 3),\n",
       " ('Illustration', 3),\n",
       " ('Alex', 3),\n",
       " ('Castro', 3),\n",
       " ('Verge', 3)]"
      ]
     },
     "execution_count": 106,
     "metadata": {},
     "output_type": "execute_result"
    }
   ],
   "source": [
    "# Use token_count to get the top 10 words for Bitcoin\n",
    "all_tokens = tokenizer(bitcoin.text.str.cat())\n",
    "token_count(all_tokens, 10)"
   ]
  },
  {
   "cell_type": "code",
   "execution_count": 107,
   "metadata": {},
   "outputs": [
    {
     "data": {
      "text/plain": [
       "[('char', 19),\n",
       " ('newsletter', 6),\n",
       " ('million', 5),\n",
       " ('Bitcoin', 5),\n",
       " ('Ethereum', 4),\n",
       " ('token', 4),\n",
       " ('ethereum', 4),\n",
       " ('Feb', 4),\n",
       " ('Reuters', 4),\n",
       " ('324', 4)]"
      ]
     },
     "execution_count": 107,
     "metadata": {},
     "output_type": "execute_result"
    }
   ],
   "source": [
    "# Use token_count to get the top 10 words for Ethereum\n",
    "all_tokens = tokenizer(ethereum.text.str.cat())\n",
    "token_count(all_tokens, 10)"
   ]
  },
  {
   "cell_type": "markdown",
   "metadata": {},
   "source": [
    "---"
   ]
  },
  {
   "cell_type": "markdown",
   "metadata": {},
   "source": [
    "### Word Clouds\n",
    "\n",
    "In this section, you will generate word clouds for each coin to summarize the news for each coin"
   ]
  },
  {
   "cell_type": "code",
   "execution_count": 21,
   "metadata": {},
   "outputs": [],
   "source": [
    "from wordcloud import WordCloud\n",
    "import matplotlib.pyplot as plt\n",
    "plt.style.use('seaborn-whitegrid')\n",
    "import matplotlib as mpl\n",
    "mpl.rcParams['figure.figsize'] = [20.0, 10.0]"
   ]
  },
  {
   "cell_type": "code",
   "execution_count": 22,
   "metadata": {},
   "outputs": [],
   "source": [
    "# Generate the Bitcoin word cloud\n",
    "# YOUR CODE HERE!"
   ]
  },
  {
   "cell_type": "code",
   "execution_count": 23,
   "metadata": {},
   "outputs": [],
   "source": [
    "# Generate the Ethereum word cloud\n",
    "# YOUR CODE HERE!"
   ]
  },
  {
   "cell_type": "markdown",
   "metadata": {},
   "source": [
    "---\n",
    "## 3. Named Entity Recognition\n",
    "\n",
    "In this section, you will build a named entity recognition model for both Bitcoin and Ethereum, then visualize the tags using SpaCy."
   ]
  },
  {
   "cell_type": "code",
   "execution_count": 24,
   "metadata": {},
   "outputs": [],
   "source": [
    "import spacy\n",
    "from spacy import displacy"
   ]
  },
  {
   "cell_type": "code",
   "execution_count": 25,
   "metadata": {},
   "outputs": [],
   "source": [
    "# Download the language model for SpaCy\n",
    "# !python -m spacy download en_core_web_sm"
   ]
  },
  {
   "cell_type": "code",
   "execution_count": 26,
   "metadata": {},
   "outputs": [],
   "source": [
    "# Load the spaCy model\n",
    "nlp = spacy.load('en_core_web_sm')"
   ]
  },
  {
   "cell_type": "markdown",
   "metadata": {},
   "source": [
    "---\n",
    "### Bitcoin NER"
   ]
  },
  {
   "cell_type": "code",
   "execution_count": 27,
   "metadata": {},
   "outputs": [],
   "source": [
    "# Concatenate all of the Bitcoin text together\n",
    "# YOUR CODE HERE!"
   ]
  },
  {
   "cell_type": "code",
   "execution_count": 28,
   "metadata": {},
   "outputs": [],
   "source": [
    "# Run the NER processor on all of the text\n",
    "# YOUR CODE HERE!\n",
    "\n",
    "# Add a title to the document\n",
    "# YOUR CODE HERE!"
   ]
  },
  {
   "cell_type": "code",
   "execution_count": 29,
   "metadata": {},
   "outputs": [],
   "source": [
    "# Render the visualization\n",
    "# YOUR CODE HERE!"
   ]
  },
  {
   "cell_type": "code",
   "execution_count": 30,
   "metadata": {},
   "outputs": [],
   "source": [
    "# List all Entities\n",
    "# YOUR CODE HERE!"
   ]
  },
  {
   "cell_type": "markdown",
   "metadata": {},
   "source": [
    "---"
   ]
  },
  {
   "cell_type": "markdown",
   "metadata": {},
   "source": [
    "### Ethereum NER"
   ]
  },
  {
   "cell_type": "code",
   "execution_count": 31,
   "metadata": {},
   "outputs": [],
   "source": [
    "# Concatenate all of the Ethereum text together\n",
    "# YOUR CODE HERE!"
   ]
  },
  {
   "cell_type": "code",
   "execution_count": 32,
   "metadata": {},
   "outputs": [],
   "source": [
    "# Run the NER processor on all of the text\n",
    "# YOUR CODE HERE!\n",
    "\n",
    "# Add a title to the document\n",
    "# YOUR CODE HERE!"
   ]
  },
  {
   "cell_type": "code",
   "execution_count": 33,
   "metadata": {},
   "outputs": [],
   "source": [
    "# Render the visualization\n",
    "# YOUR CODE HERE!"
   ]
  },
  {
   "cell_type": "code",
   "execution_count": 34,
   "metadata": {},
   "outputs": [],
   "source": [
    "# List all Entities\n",
    "# YOUR CODE HERE!"
   ]
  },
  {
   "cell_type": "markdown",
   "metadata": {},
   "source": [
    "---"
   ]
  }
 ],
 "metadata": {
  "file_extension": ".py",
  "kernelspec": {
   "display_name": "Python [conda env:pyvizenv] *",
   "language": "python",
   "name": "conda-env-pyvizenv-py"
  },
  "language_info": {
   "codemirror_mode": {
    "name": "ipython",
    "version": 3
   },
   "file_extension": ".py",
   "mimetype": "text/x-python",
   "name": "python",
   "nbconvert_exporter": "python",
   "pygments_lexer": "ipython3",
   "version": "3.7.7"
  },
  "mimetype": "text/x-python",
  "name": "python",
  "npconvert_exporter": "python",
  "pygments_lexer": "ipython3",
  "version": 3
 },
 "nbformat": 4,
 "nbformat_minor": 4
}
